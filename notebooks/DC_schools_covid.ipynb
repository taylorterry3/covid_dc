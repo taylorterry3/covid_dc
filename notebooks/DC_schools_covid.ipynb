{
 "cells": [
  {
   "cell_type": "code",
   "execution_count": 1,
   "metadata": {
    "id": "22ZnYZq83JMl"
   },
   "outputs": [
    {
     "name": "stdout",
     "output_type": "stream",
     "text": [
      "Populating the interactive namespace from numpy and matplotlib\n"
     ]
    }
   ],
   "source": [
    "# relative import hack\n",
    "import sys\n",
    "sys.path.insert(0, \"..\")\n",
    "\n",
    "from covid_dc.school_data import (\n",
    "    scrape_articles_data,\n",
    "    scrape_notifications_data,\n",
    "    parse_incidents,\n",
    "    data_to_dataframe,\n",
    "    fix_school_names,\n",
    "    append_school_levels\n",
    ")\n",
    "\n",
    "import pandas as pd\n",
    "\n",
    "import seaborn as sns\n",
    "\n",
    "%pylab inline\n",
    "\n",
    "pd.options.display.max_rows = 250\n",
    "pd.options.display.max_columns = 50\n",
    "pd.options.display.max_colwidth = None"
   ]
  },
  {
   "cell_type": "code",
   "execution_count": 2,
   "metadata": {},
   "outputs": [],
   "source": [
    "incidents = scrape_notifications_data()"
   ]
  },
  {
   "cell_type": "code",
   "execution_count": 3,
   "metadata": {},
   "outputs": [
    {
     "name": "stdout",
     "output_type": "stream",
     "text": [
      "May 10, 2021, notifying them of two positive COVID-19 cases in the building when students were present on May 4 and 5, 2021, respectively.  to  [[], [], [2], [], [], []]\n",
      "April 1, 2021, notifying them of two positive COVID-19 cases in the building when students were present on March 31 and April 1, 2021, respectively. to  [[], [], [2], [], [], []]\n"
     ]
    }
   ],
   "source": [
    "incidents = parse_incidents(incidents)"
   ]
  },
  {
   "cell_type": "code",
   "execution_count": 4,
   "metadata": {},
   "outputs": [],
   "source": [
    "all_data = data_to_dataframe(incidents)"
   ]
  },
  {
   "cell_type": "code",
   "execution_count": 5,
   "metadata": {},
   "outputs": [],
   "source": [
    "all_data = fix_school_names(all_data)"
   ]
  },
  {
   "cell_type": "code",
   "execution_count": 6,
   "metadata": {},
   "outputs": [],
   "source": [
    "all_data = append_school_levels(all_data)"
   ]
  },
  {
   "cell_type": "code",
   "execution_count": 7,
   "metadata": {},
   "outputs": [],
   "source": [
    "metadata = pd.read_csv(\"../data/input/DC_schools_metadata.csv\")"
   ]
  },
  {
   "cell_type": "code",
   "execution_count": 8,
   "metadata": {},
   "outputs": [],
   "source": [
    "all_data = all_data.merge(metadata, on=\"school\", how=\"left\")"
   ]
  },
  {
   "cell_type": "code",
   "execution_count": 14,
   "metadata": {},
   "outputs": [],
   "source": [
    "# just copypastaing this to gsheets for now\n",
    "all_data[all_data.incident_date >= \"2021-08-20\"][\n",
    "    [\n",
    "        \"incident_date\",\n",
    "        \"letter_date\",\n",
    "        \"school\",\n",
    "        \"cases_count\",\n",
    "        \"school_level\",\n",
    "        \"ward\",\n",
    "        \"incident_text\",\n",
    "    ]\n",
    "].to_clipboard(index=False)\n"
   ]
  },
  {
   "cell_type": "code",
   "execution_count": 10,
   "metadata": {},
   "outputs": [],
   "source": [
    "# Dropping sample data in a folder in the repo\n",
    "all_data[all_data.incident_date >= \"2021-08-20\"].to_csv(\n",
    "    \"../data/output/school_covid_data_2021_2021_school_year.csv\", index=False\n",
    ")"
   ]
  },
  {
   "cell_type": "markdown",
   "metadata": {},
   "source": [
    "## Below here is workspace"
   ]
  },
  {
   "cell_type": "code",
   "execution_count": 12,
   "metadata": {},
   "outputs": [
    {
     "data": {
      "text/html": [
       "<div>\n",
       "<style scoped>\n",
       "    .dataframe tbody tr th:only-of-type {\n",
       "        vertical-align: middle;\n",
       "    }\n",
       "\n",
       "    .dataframe tbody tr th {\n",
       "        vertical-align: top;\n",
       "    }\n",
       "\n",
       "    .dataframe thead th {\n",
       "        text-align: right;\n",
       "    }\n",
       "</style>\n",
       "<table border=\"1\" class=\"dataframe\">\n",
       "  <thead>\n",
       "    <tr style=\"text-align: right;\">\n",
       "      <th></th>\n",
       "      <th>0</th>\n",
       "      <th>1</th>\n",
       "      <th>2</th>\n",
       "      <th>3</th>\n",
       "      <th>4</th>\n",
       "    </tr>\n",
       "  </thead>\n",
       "  <tbody>\n",
       "    <tr>\n",
       "      <th>school</th>\n",
       "      <td>Achievement</td>\n",
       "      <td>Aiton</td>\n",
       "      <td>Amidon-Bowen</td>\n",
       "      <td>Anacostia</td>\n",
       "      <td>Angelou High</td>\n",
       "    </tr>\n",
       "    <tr>\n",
       "      <th>school_name_long</th>\n",
       "      <td>Achievement Preparatory Academy PCS - Wahler Place Elementary School</td>\n",
       "      <td>Aiton Elementary School</td>\n",
       "      <td>Amidon-Bowen Elementary School</td>\n",
       "      <td>Anacostia High School</td>\n",
       "      <td>Maya Angelou PCS - High School</td>\n",
       "    </tr>\n",
       "    <tr>\n",
       "      <th>state_school_id</th>\n",
       "      <td>217</td>\n",
       "      <td>202</td>\n",
       "      <td>203</td>\n",
       "      <td>450</td>\n",
       "      <td>101</td>\n",
       "    </tr>\n",
       "    <tr>\n",
       "      <th>lea_name</th>\n",
       "      <td>Achievement Preparatory Academy PCS</td>\n",
       "      <td>District of Columbia Public Schools</td>\n",
       "      <td>District of Columbia Public Schools</td>\n",
       "      <td>District of Columbia Public Schools</td>\n",
       "      <td>Maya Angelou PCS</td>\n",
       "    </tr>\n",
       "    <tr>\n",
       "      <th>lea_id</th>\n",
       "      <td>155</td>\n",
       "      <td>1</td>\n",
       "      <td>1</td>\n",
       "      <td>1</td>\n",
       "      <td>133</td>\n",
       "    </tr>\n",
       "    <tr>\n",
       "      <th>level</th>\n",
       "      <td>Elementary</td>\n",
       "      <td>Elementary</td>\n",
       "      <td>Elementary</td>\n",
       "      <td>High</td>\n",
       "      <td>High</td>\n",
       "    </tr>\n",
       "    <tr>\n",
       "      <th>grades</th>\n",
       "      <td>PK3 - 3</td>\n",
       "      <td>PK3 - 5</td>\n",
       "      <td>PK3 - 5</td>\n",
       "      <td>9 - 12</td>\n",
       "      <td>9 - 12</td>\n",
       "    </tr>\n",
       "    <tr>\n",
       "      <th>ward</th>\n",
       "      <td>8</td>\n",
       "      <td>7</td>\n",
       "      <td>6</td>\n",
       "      <td>8</td>\n",
       "      <td>AD</td>\n",
       "    </tr>\n",
       "    <tr>\n",
       "      <th>charter_status</th>\n",
       "      <td>Charter</td>\n",
       "      <td>DCPS</td>\n",
       "      <td>DCPS</td>\n",
       "      <td>DCPS</td>\n",
       "      <td>Charter</td>\n",
       "    </tr>\n",
       "    <tr>\n",
       "      <th>phone</th>\n",
       "      <td>(202) 562-1307</td>\n",
       "      <td>(202) 671-6060</td>\n",
       "      <td>(202) 724-4867</td>\n",
       "      <td>(202) 698-2155</td>\n",
       "      <td>(202) 379-4335</td>\n",
       "    </tr>\n",
       "    <tr>\n",
       "      <th>address</th>\n",
       "      <td>908 WAHLER PLACE SE, WASHINGTON, DC 20032</td>\n",
       "      <td>533 48th Pl. NE, WASHINGTON, DC 20019</td>\n",
       "      <td>401 I St. SW, WASHINGTON, DC 20024</td>\n",
       "      <td>1601 16th St. SE, WASHINGTON, DC 20020</td>\n",
       "      <td>5600 EAST CAPITOL STREET NE, WASHINGTON, DC 20019</td>\n",
       "    </tr>\n",
       "  </tbody>\n",
       "</table>\n",
       "</div>"
      ],
      "text/plain": [
       "                                                                                     0  \\\n",
       "school                                                                     Achievement   \n",
       "school_name_long  Achievement Preparatory Academy PCS - Wahler Place Elementary School   \n",
       "state_school_id                                                                    217   \n",
       "lea_name                                           Achievement Preparatory Academy PCS   \n",
       "lea_id                                                                             155   \n",
       "level                                                                       Elementary   \n",
       "grades                                                                         PK3 - 3   \n",
       "ward                                                                                 8   \n",
       "charter_status                                                                 Charter   \n",
       "phone                                                                   (202) 562-1307   \n",
       "address                                      908 WAHLER PLACE SE, WASHINGTON, DC 20032   \n",
       "\n",
       "                                                      1  \\\n",
       "school                                            Aiton   \n",
       "school_name_long                Aiton Elementary School   \n",
       "state_school_id                                     202   \n",
       "lea_name            District of Columbia Public Schools   \n",
       "lea_id                                                1   \n",
       "level                                        Elementary   \n",
       "grades                                          PK3 - 5   \n",
       "ward                                                  7   \n",
       "charter_status                                     DCPS   \n",
       "phone                                    (202) 671-6060   \n",
       "address           533 48th Pl. NE, WASHINGTON, DC 20019   \n",
       "\n",
       "                                                    2  \\\n",
       "school                                   Amidon-Bowen   \n",
       "school_name_long       Amidon-Bowen Elementary School   \n",
       "state_school_id                                   203   \n",
       "lea_name          District of Columbia Public Schools   \n",
       "lea_id                                              1   \n",
       "level                                      Elementary   \n",
       "grades                                        PK3 - 5   \n",
       "ward                                                6   \n",
       "charter_status                                   DCPS   \n",
       "phone                                  (202) 724-4867   \n",
       "address            401 I St. SW, WASHINGTON, DC 20024   \n",
       "\n",
       "                                                       3  \\\n",
       "school                                         Anacostia   \n",
       "school_name_long                   Anacostia High School   \n",
       "state_school_id                                      450   \n",
       "lea_name             District of Columbia Public Schools   \n",
       "lea_id                                                 1   \n",
       "level                                               High   \n",
       "grades                                            9 - 12   \n",
       "ward                                                   8   \n",
       "charter_status                                      DCPS   \n",
       "phone                                     (202) 698-2155   \n",
       "address           1601 16th St. SE, WASHINGTON, DC 20020   \n",
       "\n",
       "                                                                  4  \n",
       "school                                                 Angelou High  \n",
       "school_name_long                     Maya Angelou PCS - High School  \n",
       "state_school_id                                                 101  \n",
       "lea_name                                           Maya Angelou PCS  \n",
       "lea_id                                                          133  \n",
       "level                                                          High  \n",
       "grades                                                       9 - 12  \n",
       "ward                                                             AD  \n",
       "charter_status                                              Charter  \n",
       "phone                                                (202) 379-4335  \n",
       "address           5600 EAST CAPITOL STREET NE, WASHINGTON, DC 20019  "
      ]
     },
     "execution_count": 12,
     "metadata": {},
     "output_type": "execute_result"
    }
   ],
   "source": [
    "metadata.head().T"
   ]
  },
  {
   "cell_type": "code",
   "execution_count": 13,
   "metadata": {},
   "outputs": [
    {
     "data": {
      "text/plain": [
       "<function covid_dc.school_data.scrape_notifications_data(rs_url='https://dcpsreopenstrong.com/health/response/notifications/') -> list>"
      ]
     },
     "execution_count": 13,
     "metadata": {},
     "output_type": "execute_result"
    }
   ],
   "source": [
    "scrape_notifications_data"
   ]
  }
 ],
 "metadata": {
  "colab": {
   "collapsed_sections": [],
   "name": "DC_schools_covid",
   "provenance": []
  },
  "kernelspec": {
   "display_name": "Python 3 (ipykernel)",
   "language": "python",
   "name": "python3"
  },
  "language_info": {
   "codemirror_mode": {
    "name": "ipython",
    "version": 3
   },
   "file_extension": ".py",
   "mimetype": "text/x-python",
   "name": "python",
   "nbconvert_exporter": "python",
   "pygments_lexer": "ipython3",
   "version": "3.9.5"
  }
 },
 "nbformat": 4,
 "nbformat_minor": 1
}
