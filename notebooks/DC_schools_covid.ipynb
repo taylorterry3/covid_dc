{
 "cells": [
  {
   "cell_type": "code",
   "execution_count": 24,
   "metadata": {
    "id": "22ZnYZq83JMl"
   },
   "outputs": [
    {
     "name": "stdout",
     "output_type": "stream",
     "text": [
      "Populating the interactive namespace from numpy and matplotlib\n"
     ]
    }
   ],
   "source": [
    "import sys; sys.path.insert(0, '..')\n",
    "from covid_dc.school_data import scrape_articles_data, scrape_notifications_data, parse_incidents\n",
    "\n",
    "import pandas as pd\n",
    "\n",
    "import seaborn as sns\n",
    "\n",
    "%pylab inline\n",
    "\n",
    "pd.options.display.max_rows = 250\n",
    "pd.options.display.max_columns = 50\n",
    "pd.options.display.max_colwidth = None"
   ]
  },
  {
   "cell_type": "code",
   "execution_count": 11,
   "metadata": {},
   "outputs": [],
   "source": [
    "incidents = scrape_notifications_data()"
   ]
  },
  {
   "cell_type": "code",
   "execution_count": 13,
   "metadata": {},
   "outputs": [
    {
     "name": "stdout",
     "output_type": "stream",
     "text": [
      "May 10, 2021, notifying them of two positive COVID-19 cases in the building when students were present on May 4 and 5, 2021, respectively.  to  [[], [], [2], [], [], []]\n",
      "April 1, 2021, notifying them of two positive COVID-19 cases in the building when students were present on March 31 and April 1, 2021, respectively. to  [[], [], [2], [], [], []]\n"
     ]
    }
   ],
   "source": [
    "all_data = pd.DataFrame(parse_incidents(incidents))"
   ]
  },
  {
   "cell_type": "code",
   "execution_count": 14,
   "metadata": {
    "id": "eYlt1qk8Eges"
   },
   "outputs": [],
   "source": [
    "all_data = all_data[[\"incident_date\", \"letter_date\", \"school\", \"cases_count\", \"no_case_count\", \"incident_text\"]]\n",
    "all_data.sort_values([\"incident_date\",\"school\", \"letter_date\", \"cases_count\"], inplace=True)"
   ]
  },
  {
   "cell_type": "code",
   "execution_count": 29,
   "metadata": {},
   "outputs": [],
   "source": [
    "all_data[all_data.incident_date >= \"2021-08-20\"][[\"incident_date\", \"letter_date\", \"school\", \"cases_count\"]].to_clipboard(index=False)"
   ]
  }
 ],
 "metadata": {
  "colab": {
   "collapsed_sections": [],
   "name": "DC_schools_covid",
   "provenance": []
  },
  "kernelspec": {
   "display_name": "Python 3 (ipykernel)",
   "language": "python",
   "name": "python3"
  },
  "language_info": {
   "codemirror_mode": {
    "name": "ipython",
    "version": 3
   },
   "file_extension": ".py",
   "mimetype": "text/x-python",
   "name": "python",
   "nbconvert_exporter": "python",
   "pygments_lexer": "ipython3",
   "version": "3.9.5"
  }
 },
 "nbformat": 4,
 "nbformat_minor": 1
}
