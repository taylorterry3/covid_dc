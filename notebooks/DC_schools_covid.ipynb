{
 "cells": [
  {
   "cell_type": "code",
   "execution_count": 1,
   "metadata": {
    "id": "22ZnYZq83JMl"
   },
   "outputs": [
    {
     "name": "stdout",
     "output_type": "stream",
     "text": [
      "Populating the interactive namespace from numpy and matplotlib\n"
     ]
    }
   ],
   "source": [
    "# relative import hack\n",
    "import sys\n",
    "sys.path.insert(0, \"..\")\n",
    "\n",
    "from covid_dc.school_data import (\n",
    "    scrape_articles_data,\n",
    "    scrape_notifications_data,\n",
    "    parse_incidents,\n",
    "    data_to_dataframe,\n",
    "    fix_school_names,\n",
    "    append_school_levels\n",
    ")\n",
    "\n",
    "import pandas as pd\n",
    "\n",
    "import seaborn as sns\n",
    "\n",
    "%pylab inline\n",
    "\n",
    "pd.options.display.max_rows = 250\n",
    "pd.options.display.max_columns = 50\n",
    "pd.options.display.max_colwidth = None"
   ]
  },
  {
   "cell_type": "code",
   "execution_count": 2,
   "metadata": {},
   "outputs": [],
   "source": [
    "incidents = scrape_notifications_data()"
   ]
  },
  {
   "cell_type": "code",
   "execution_count": 3,
   "metadata": {},
   "outputs": [
    {
     "name": "stdout",
     "output_type": "stream",
     "text": [
      "May 10, 2021, notifying them of two positive COVID-19 cases in the building when students were present on May 4 and 5, 2021, respectively.  to  [[], [], [2], [], [], []]\n",
      "April 1, 2021, notifying them of two positive COVID-19 cases in the building when students were present on March 31 and April 1, 2021, respectively. to  [[], [], [2], [], [], []]\n"
     ]
    }
   ],
   "source": [
    "incidents = parse_incidents(incidents)"
   ]
  },
  {
   "cell_type": "code",
   "execution_count": 4,
   "metadata": {},
   "outputs": [],
   "source": [
    "all_data = data_to_dataframe(incidents)"
   ]
  },
  {
   "cell_type": "code",
   "execution_count": 5,
   "metadata": {},
   "outputs": [],
   "source": [
    "def fix_school_names(all_data: object) -> object:\n",
    "    name_corrections = {\n",
    "        \"Barnard ES\": \"Barnard\",\n",
    "        \"Beers ES\": \"Beers\",\n",
    "        \"Boone Elementary\": \"Boone\",\n",
    "        \"Bruce-Monrow\": \"Bruce-Monroe\",\n",
    "        \"CW Harris\": \"C.W. Harris\",\n",
    "        \"Excel Academy\": \"Excel\",\n",
    "        \"Excel-Academy\": \"Excel\",\n",
    "        \"GarrisonElementary\": \"Garrison\",\n",
    "        \"H.D.Cooke \": \"H.D. Cooke\",\n",
    "        \"H.D.Cooke\": \"H.D. Cooke\",\n",
    "        \"HD Cooke\": \"H.D. Cooke\",\n",
    "        \"H.D. Woodson\": \"Woodson\",\n",
    "        \"HD Woodson\": \"Woodson\",\n",
    "        \"Houston ES\": \"Houston\",\n",
    "        \"Ida.B.Wells\": \"Ida B. Wells\",\n",
    "        \"J.O. Wilson Elementary\": \"J.O. Wilson\",\n",
    "        \"Jefferson MS\": \"Jefferson\",\n",
    "        \"John Hayden Johnson Middle School\": \"Johnson\",\n",
    "        \"Kimball Elementary\": \"Kimball\",\n",
    "        \"King ES\": \"King\",\n",
    "        \"King Elementary\": \"King\",\n",
    "        \"Langdon ES\": \"Langdon\",\n",
    "        \"Mann Elementary\": \"Mann\",\n",
    "        \"Maury Elementary\": \"Maury\",\n",
    "        \"McKinley High School\": \"McKinley High\",\n",
    "        \"McKinley Tech High School\": \"McKinley High\",\n",
    "        \"McKinley Middle School\": \"McKinkey Middle\",\n",
    "        \"Miner Elementary\": \"Miner\",\n",
    "        \"Moten Elementary\": \"Moten\",\n",
    "        \"Nalle Elementary School\": \"Nalle\",\n",
    "        \"Oyster-Adams (Adams)\": \"Oyster-Adams\",\n",
    "        \"Peabody and Watkins\": \"Peabody Watkins\",\n",
    "        \"Peabody\": \"Peabody Watkins\",\n",
    "        \"Roosevelt STAY High School\": \"Roosevelt STAY\",\n",
    "        \"School Without Walls at Francis-Stevens\": \"SWW @ Francis Stevens\",\n",
    "        \"School Within Walls\": \"School Without Walls\",\n",
    "        \"Seaton ES\": \"Seaton\",\n",
    "        \"Stuart Hobson\": \"Stuart-Hobson\",\n",
    "        \"Stuart-Hobson Middle\": \"Stuart-Hobson\",\n",
    "        \"Thomas Elementary\": \"Thomas\",\n",
    "        \"Thomson Elementary\": \"Thomson\",\n",
    "        \"Tubman Elementary School\": \"Tubman\",\n",
    "        \"Van Ness Elementary School\": \"Van Ness\",\n",
    "    }\n",
    "    all_data[\"school\"] = all_data[\"school\"].replace(name_corrections)\n",
    "    return all_data"
   ]
  },
  {
   "cell_type": "code",
   "execution_count": 6,
   "metadata": {},
   "outputs": [],
   "source": [
    "all_data = fix_school_names(all_data)"
   ]
  },
  {
   "cell_type": "code",
   "execution_count": 7,
   "metadata": {},
   "outputs": [],
   "source": [
    "all_data = append_school_levels(all_data)"
   ]
  },
  {
   "cell_type": "code",
   "execution_count": 9,
   "metadata": {},
   "outputs": [],
   "source": [
    "# just copypastaing this to gsheets for now\n",
    "all_data[all_data.incident_date >= \"2021-08-20\"][\n",
    "    [\"incident_date\", \"letter_date\", \"school\", \"cases_count\", \"school_level\", \"incident_text\"]\n",
    "].to_clipboard(index=False)"
   ]
  },
  {
   "cell_type": "code",
   "execution_count": 10,
   "metadata": {},
   "outputs": [],
   "source": [
    "# Dropping sample data in a folder in the repo\n",
    "all_data[all_data.incident_date >= \"2021-08-20\"].to_csv(\n",
    "    \"../data/school_covid_data_2021_2021_school_year.csv\", index=False, ifexists\n",
    ")"
   ]
  },
  {
   "cell_type": "markdown",
   "metadata": {},
   "source": [
    "## Below here is workspace"
   ]
  },
  {
   "cell_type": "code",
   "execution_count": null,
   "metadata": {},
   "outputs": [],
   "source": []
  }
 ],
 "metadata": {
  "colab": {
   "collapsed_sections": [],
   "name": "DC_schools_covid",
   "provenance": []
  },
  "kernelspec": {
   "display_name": "Python 3 (ipykernel)",
   "language": "python",
   "name": "python3"
  },
  "language_info": {
   "codemirror_mode": {
    "name": "ipython",
    "version": 3
   },
   "file_extension": ".py",
   "mimetype": "text/x-python",
   "name": "python",
   "nbconvert_exporter": "python",
   "pygments_lexer": "ipython3",
   "version": "3.9.5"
  }
 },
 "nbformat": 4,
 "nbformat_minor": 1
}
