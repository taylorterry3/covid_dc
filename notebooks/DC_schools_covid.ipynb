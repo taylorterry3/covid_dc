{
 "cells": [
  {
   "cell_type": "code",
   "execution_count": 1,
   "metadata": {
    "id": "22ZnYZq83JMl"
   },
   "outputs": [
    {
     "name": "stdout",
     "output_type": "stream",
     "text": [
      "Populating the interactive namespace from numpy and matplotlib\n"
     ]
    }
   ],
   "source": [
    "# relative import hack\n",
    "import sys\n",
    "\n",
    "sys.path.insert(0, \"..\")\n",
    "\n",
    "from covid_dc.school_data import (\n",
    "    scrape_articles_data,\n",
    "    scrape_notifications_data,\n",
    "    fix_multiple_dates,\n",
    "    run_one_shot_fixes_html,\n",
    "    parse_incidents,\n",
    "    data_to_dataframe,\n",
    "    fix_school_names,\n",
    "    append_school_levels,\n",
<<<<<<< HEAD
    "    dl_and_read_pdfs,\n",
    "    parse_pdfs\n",
=======
    "    # dl_and_read_pdfs,\n",
    "    # parse_pdfs,\n",
    "    update_gsheet,\n",
>>>>>>> main
    ")\n",
    "\n",
    "import pandas as pd\n",
    "\n",
    "import seaborn as sns\n",
    "\n",
    "%pylab inline\n",
    "\n",
    "pd.options.display.max_rows = 250\n",
    "pd.options.display.max_columns = 50\n",
    "pd.options.display.max_colwidth = None"
   ]
  },
  {
   "cell_type": "code",
   "execution_count": 2,
   "metadata": {},
   "outputs": [
    {
     "name": "stdout",
     "output_type": "stream",
     "text": [
      "<a href=\"https://dcpsreopenstrong.com/articles/dunbar-high-school-covid-19-notification-14/\" rel=\"bookmark noopener noreferrer\" target=\"_self\">Dunbar High School: COVID-19 Notification</a>\n",
      "<a href=\"https://dcpsreopenstrong.com/articles/dunbar-high-school-covid-19-notification-13/\" rel=\"bookmark noopener noreferrer\" target=\"_self\">Dunbar High School: COVID-19 Notification</a>\n"
     ]
    }
   ],
   "source": [
    "incidents = scrape_notifications_data()"
   ]
  },
  {
   "cell_type": "code",
   "execution_count": 3,
   "metadata": {},
   "outputs": [],
   "source": [
    "incidents = fix_multiple_dates(incidents)"
   ]
  },
  {
   "cell_type": "code",
   "execution_count": 4,
   "metadata": {
    "scrolled": true
   },
   "outputs": [],
   "source": [
    "incidents = run_one_shot_fixes_html(incidents)"
   ]
  },
  {
   "cell_type": "code",
   "execution_count": 5,
   "metadata": {},
   "outputs": [],
   "source": [
    "incidents = parse_incidents(incidents)"
   ]
  },
  {
   "cell_type": "code",
   "execution_count": 6,
   "metadata": {},
   "outputs": [],
   "source": [
    "all_data = data_to_dataframe(incidents)"
   ]
  },
  {
   "cell_type": "code",
   "execution_count": 7,
   "metadata": {},
   "outputs": [],
   "source": [
    "all_data = fix_school_names(all_data)"
   ]
  },
  {
   "cell_type": "code",
   "execution_count": 8,
   "metadata": {},
   "outputs": [],
   "source": [
    "all_data = append_school_levels(all_data)"
   ]
  },
  {
   "cell_type": "code",
   "execution_count": 9,
   "metadata": {},
   "outputs": [
    {
     "data": {
      "text/plain": [
       "(558, 7)"
      ]
     },
     "execution_count": 9,
     "metadata": {},
     "output_type": "execute_result"
    }
   ],
   "source": [
    "all_data.shape"
   ]
  },
  {
   "cell_type": "code",
   "execution_count": 10,
   "metadata": {},
   "outputs": [],
   "source": [
    "metadata = pd.read_csv(\"../data/input/DC_schools_metadata.csv\")"
   ]
  },
  {
   "cell_type": "code",
   "execution_count": 11,
   "metadata": {},
   "outputs": [],
   "source": [
    "all_data = all_data.merge(metadata, on=\"school\", how=\"left\")"
   ]
  },
  {
   "cell_type": "code",
   "execution_count": 12,
<<<<<<< HEAD
=======
   "metadata": {},
   "outputs": [
    {
     "data": {
      "text/plain": [
       "(558, 17)"
      ]
     },
     "execution_count": 12,
     "metadata": {},
     "output_type": "execute_result"
    }
   ],
   "source": [
    "all_data.shape"
   ]
  },
  {
   "cell_type": "code",
   "execution_count": 13,
   "metadata": {},
   "outputs": [],
   "source": [
    "all_data[\"ward\"] = all_data[\"ward\"].fillna(\"Unk\")"
   ]
  },
  {
   "cell_type": "code",
   "execution_count": 14,
   "metadata": {},
   "outputs": [],
   "source": [
    "all_data = all_data[all_data[\"letter_date\"] >= \"2021-10-10\"]"
   ]
  },
  {
   "cell_type": "code",
   "execution_count": 15,
>>>>>>> main
   "metadata": {},
   "outputs": [],
   "source": [
    "archive_1 = pd.read_csv(\n",
    "    \"../data/input/archived_data_2021_2022_school_year_1.csv\",\n",
    "    parse_dates=[\"incident_date\",\"letter_date\"]\n",
    ")"
   ]
  },
  {
   "cell_type": "code",
   "execution_count": 16,
   "metadata": {},
   "outputs": [],
   "source": [
    "all_data = pd.concat([archive_1, all_data])"
   ]
  },
  {
   "cell_type": "code",
   "execution_count": 17,
   "metadata": {},
   "outputs": [],
   "source": [
    "# this is craptacular but I'm leaving it for now because I may move\n",
    "# it into the function that appends the metadata\n",
    "update_gsheet(\n",
    "    all_data[\n",
    "        [\n",
    "            \"incident_date\",\n",
    "            \"letter_date\",\n",
    "            \"school\",\n",
    "            \"cases_count\",\n",
    "            \"school_level\",\n",
    "            \"ward\",\n",
    "            \"incident_text\",\n",
    "        ]\n",
    "    ]\n",
    ")"
   ]
  },
  {
   "cell_type": "code",
   "execution_count": 18,
   "metadata": {},
   "outputs": [],
   "source": [
    "# Used for copypasta to gsheets if the above fails\n",
    "# This will break if used on something without a notion of a clipboard\n",
    "all_data[all_data.incident_date >= \"2021-08-20\"][\n",
    "    [\n",
    "        \"incident_date\",\n",
    "        \"letter_date\",\n",
    "        \"school\",\n",
    "        \"cases_count\",\n",
    "        \"school_level\",\n",
    "        \"ward\",\n",
    "        \"incident_text\",\n",
    "    ]\n",
    "].to_clipboard(index=False)\n"
   ]
  },
  {
   "cell_type": "code",
   "execution_count": 19,
   "metadata": {},
   "outputs": [],
   "source": [
    "# Dropping sample data in a folder in the repo\n",
    "all_data[all_data.incident_date >= \"2021-08-20\"].to_csv(\n",
    "    \"../data/output/school_covid_data_2021_2022_school_year.csv\", index=False\n",
    ")"
   ]
  },
  {
   "cell_type": "markdown",
   "metadata": {},
   "source": [
    "## Below here is workspace for debugging and analysis"
   ]
  }
 ],
 "metadata": {
  "colab": {
   "collapsed_sections": [],
   "name": "DC_schools_covid",
   "provenance": []
  },
  "kernelspec": {
   "display_name": "Python 3 (ipykernel)",
   "language": "python",
   "name": "python3"
  },
  "language_info": {
   "codemirror_mode": {
    "name": "ipython",
    "version": 3
   },
   "file_extension": ".py",
   "mimetype": "text/x-python",
   "name": "python",
   "nbconvert_exporter": "python",
   "pygments_lexer": "ipython3",
   "version": "3.9.5"
  }
 },
 "nbformat": 4,
 "nbformat_minor": 1
}
