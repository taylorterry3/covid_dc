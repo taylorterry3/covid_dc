{
 "cells": [
  {
   "cell_type": "code",
   "execution_count": 1,
   "metadata": {
    "id": "22ZnYZq83JMl"
   },
   "outputs": [
    {
     "name": "stdout",
     "output_type": "stream",
     "text": [
      "Populating the interactive namespace from numpy and matplotlib\n"
     ]
    }
   ],
   "source": [
    "# relative import hack\n",
    "import sys\n",
    "sys.path.insert(0, \"..\")\n",
    "\n",
    "from covid_dc.school_data import (\n",
    "    scrape_articles_data,\n",
    "    scrape_notifications_data,\n",
    "    parse_incidents,\n",
    "    data_to_dataframe,\n",
    "    fix_school_names,\n",
    "    append_school_levels\n",
    ")\n",
    "\n",
    "import pandas as pd\n",
    "\n",
    "import seaborn as sns\n",
    "\n",
    "%pylab inline\n",
    "\n",
    "pd.options.display.max_rows = 250\n",
    "pd.options.display.max_columns = 50\n",
    "pd.options.display.max_colwidth = None"
   ]
  },
  {
   "cell_type": "code",
   "execution_count": 2,
   "metadata": {},
   "outputs": [],
   "source": [
    "incidents = scrape_notifications_data()"
   ]
  },
  {
   "cell_type": "code",
   "execution_count": 3,
   "metadata": {},
   "outputs": [
    {
     "name": "stdout",
     "output_type": "stream",
     "text": [
      "May 10, 2021, notifying them of two positive COVID-19 cases in the building when students were present on May 4 and 5, 2021, respectively.  to  [[], [], [2], [], [], []]\n",
      "April 1, 2021, notifying them of two positive COVID-19 cases in the building when students were present on March 31 and April 1, 2021, respectively. to  [[], [], [2], [], [], []]\n"
     ]
    }
   ],
   "source": [
    "incidents = parse_incidents(incidents)"
   ]
  },
  {
   "cell_type": "code",
   "execution_count": 4,
   "metadata": {},
   "outputs": [],
   "source": [
    "all_data = data_to_dataframe(incidents)"
   ]
  },
  {
   "cell_type": "code",
   "execution_count": 5,
   "metadata": {},
   "outputs": [],
   "source": [
    "all_data = fix_school_names(all_data)"
   ]
  },
  {
   "cell_type": "code",
   "execution_count": 6,
   "metadata": {},
   "outputs": [],
   "source": [
    "all_data = append_school_levels(all_data)"
   ]
  },
  {
   "cell_type": "code",
   "execution_count": 7,
   "metadata": {},
   "outputs": [],
   "source": [
    "# just copypastaing this to gsheets for now\n",
    "all_data[all_data.incident_date >= \"2021-08-20\"][\n",
    "    [\"incident_date\", \"letter_date\", \"school\", \"cases_count\", \"school_level\", \"incident_text\"]\n",
    "].to_clipboard(index=False)"
   ]
  },
  {
   "cell_type": "code",
   "execution_count": 8,
   "metadata": {},
   "outputs": [],
   "source": [
    "# Dropping sample data in a folder in the repo\n",
    "all_data[all_data.incident_date >= \"2021-08-20\"].to_csv(\n",
    "    \"../data/output/school_covid_data_2021_2021_school_year.csv\", index=False\n",
    ")"
   ]
  },
  {
   "cell_type": "markdown",
   "metadata": {},
   "source": [
    "## Below here is workspace"
   ]
  },
  {
   "cell_type": "code",
   "execution_count": 9,
   "metadata": {},
   "outputs": [],
   "source": [
    "metadata = pd.read_csv(\"../data/input/DC_schools_metadata.csv\")"
   ]
  },
  {
   "cell_type": "code",
   "execution_count": 10,
   "metadata": {},
   "outputs": [],
   "source": [
    "schools = list(all_data.school.unique())"
   ]
  },
  {
   "cell_type": "code",
   "execution_count": 11,
   "metadata": {},
   "outputs": [
    {
     "data": {
      "text/plain": [
       "{'McKinley', 'Peabody Watkins'}"
      ]
     },
     "execution_count": 11,
     "metadata": {},
     "output_type": "execute_result"
    }
   ],
   "source": [
    "set([s for s in schools if s not in list(metadata.school)])"
   ]
  },
  {
   "cell_type": "code",
   "execution_count": 12,
   "metadata": {},
   "outputs": [
    {
     "data": {
      "text/html": [
       "<div>\n",
       "<style scoped>\n",
       "    .dataframe tbody tr th:only-of-type {\n",
       "        vertical-align: middle;\n",
       "    }\n",
       "\n",
       "    .dataframe tbody tr th {\n",
       "        vertical-align: top;\n",
       "    }\n",
       "\n",
       "    .dataframe thead th {\n",
       "        text-align: right;\n",
       "    }\n",
       "</style>\n",
       "<table border=\"1\" class=\"dataframe\">\n",
       "  <thead>\n",
       "    <tr style=\"text-align: right;\">\n",
       "      <th></th>\n",
       "      <th>0</th>\n",
       "      <th>1</th>\n",
       "      <th>2</th>\n",
       "      <th>3</th>\n",
       "      <th>4</th>\n",
       "    </tr>\n",
       "  </thead>\n",
       "  <tbody>\n",
       "    <tr>\n",
       "      <th>school</th>\n",
       "      <td>KIPP IA</td>\n",
       "      <td>KIPP HE</td>\n",
       "      <td>KIPP LA</td>\n",
       "      <td>KIPP QA</td>\n",
       "      <td>KIPP SA</td>\n",
       "    </tr>\n",
       "    <tr>\n",
       "      <th>school_name_long</th>\n",
       "      <td>KIPP DC - Inspire Academy PCS</td>\n",
       "      <td>KIPP DC - Heights Academy PCS</td>\n",
       "      <td>KIPP DC - Lead Academy PCS</td>\n",
       "      <td>KIPP DC - Quest Academy PCS</td>\n",
       "      <td>KIPP DC - Spring Academy PCS</td>\n",
       "    </tr>\n",
       "    <tr>\n",
       "      <th>state_school_id</th>\n",
       "      <td>1185</td>\n",
       "      <td>3071</td>\n",
       "      <td>190</td>\n",
       "      <td>237</td>\n",
       "      <td>214</td>\n",
       "    </tr>\n",
       "    <tr>\n",
       "      <th>lea_name</th>\n",
       "      <td>KIPP DC PCS</td>\n",
       "      <td>KIPP DC PCS</td>\n",
       "      <td>KIPP DC PCS</td>\n",
       "      <td>KIPP DC PCS</td>\n",
       "      <td>KIPP DC PCS</td>\n",
       "    </tr>\n",
       "    <tr>\n",
       "      <th>lea_id</th>\n",
       "      <td>129</td>\n",
       "      <td>129</td>\n",
       "      <td>129</td>\n",
       "      <td>129</td>\n",
       "      <td>129</td>\n",
       "    </tr>\n",
       "    <tr>\n",
       "      <th>level</th>\n",
       "      <td>Elementary</td>\n",
       "      <td>Elementary</td>\n",
       "      <td>Elementary</td>\n",
       "      <td>Elementary</td>\n",
       "      <td>Elementary</td>\n",
       "    </tr>\n",
       "    <tr>\n",
       "      <th>grades</th>\n",
       "      <td>1 - 3</td>\n",
       "      <td>1 - 4</td>\n",
       "      <td>1 - 4</td>\n",
       "      <td>1 - 4</td>\n",
       "      <td>1 - 4</td>\n",
       "    </tr>\n",
       "    <tr>\n",
       "      <th>ward</th>\n",
       "      <td>8</td>\n",
       "      <td>8</td>\n",
       "      <td>6</td>\n",
       "      <td>7</td>\n",
       "      <td>5</td>\n",
       "    </tr>\n",
       "    <tr>\n",
       "      <th>charter_status</th>\n",
       "      <td>Charter</td>\n",
       "      <td>Charter</td>\n",
       "      <td>Charter</td>\n",
       "      <td>Charter</td>\n",
       "      <td>Charter</td>\n",
       "    </tr>\n",
       "    <tr>\n",
       "      <th>phone</th>\n",
       "      <td>(202) 562-9170</td>\n",
       "      <td>(202) 610-5323</td>\n",
       "      <td>(202) 223-4505</td>\n",
       "      <td>(202) 398-6811</td>\n",
       "      <td>(202) 397-5477</td>\n",
       "    </tr>\n",
       "    <tr>\n",
       "      <th>address</th>\n",
       "      <td>3301 WHEELER ROAD SE, WASHINGTON, DC 20032</td>\n",
       "      <td>2600 DOUGLASS ROAD SE, WASHINGTON, DC 20020</td>\n",
       "      <td>421 P STREET NW, WASHINGTON, DC 20001</td>\n",
       "      <td>5300 BLAINE STREET NE, WASHINGTON, DC 20019</td>\n",
       "      <td>1375 MOUNT OLIVET ROAD NE, WASHINGTON, DC 20002</td>\n",
       "    </tr>\n",
       "  </tbody>\n",
       "</table>\n",
       "</div>"
      ],
      "text/plain": [
       "                                                           0  \\\n",
       "school                                               KIPP IA   \n",
       "school_name_long               KIPP DC - Inspire Academy PCS   \n",
       "state_school_id                                         1185   \n",
       "lea_name                                         KIPP DC PCS   \n",
       "lea_id                                                   129   \n",
       "level                                             Elementary   \n",
       "grades                                                 1 - 3   \n",
       "ward                                                       8   \n",
       "charter_status                                       Charter   \n",
       "phone                                         (202) 562-9170   \n",
       "address           3301 WHEELER ROAD SE, WASHINGTON, DC 20032   \n",
       "\n",
       "                                                            1  \\\n",
       "school                                                KIPP HE   \n",
       "school_name_long                KIPP DC - Heights Academy PCS   \n",
       "state_school_id                                          3071   \n",
       "lea_name                                          KIPP DC PCS   \n",
       "lea_id                                                    129   \n",
       "level                                              Elementary   \n",
       "grades                                                  1 - 4   \n",
       "ward                                                        8   \n",
       "charter_status                                        Charter   \n",
       "phone                                          (202) 610-5323   \n",
       "address           2600 DOUGLASS ROAD SE, WASHINGTON, DC 20020   \n",
       "\n",
       "                                                      2  \\\n",
       "school                                          KIPP LA   \n",
       "school_name_long             KIPP DC - Lead Academy PCS   \n",
       "state_school_id                                     190   \n",
       "lea_name                                    KIPP DC PCS   \n",
       "lea_id                                              129   \n",
       "level                                        Elementary   \n",
       "grades                                            1 - 4   \n",
       "ward                                                  6   \n",
       "charter_status                                  Charter   \n",
       "phone                                    (202) 223-4505   \n",
       "address           421 P STREET NW, WASHINGTON, DC 20001   \n",
       "\n",
       "                                                            3  \\\n",
       "school                                                KIPP QA   \n",
       "school_name_long                  KIPP DC - Quest Academy PCS   \n",
       "state_school_id                                           237   \n",
       "lea_name                                          KIPP DC PCS   \n",
       "lea_id                                                    129   \n",
       "level                                              Elementary   \n",
       "grades                                                  1 - 4   \n",
       "ward                                                        7   \n",
       "charter_status                                        Charter   \n",
       "phone                                          (202) 398-6811   \n",
       "address           5300 BLAINE STREET NE, WASHINGTON, DC 20019   \n",
       "\n",
       "                                                                4  \n",
       "school                                                    KIPP SA  \n",
       "school_name_long                     KIPP DC - Spring Academy PCS  \n",
       "state_school_id                                               214  \n",
       "lea_name                                              KIPP DC PCS  \n",
       "lea_id                                                        129  \n",
       "level                                                  Elementary  \n",
       "grades                                                      1 - 4  \n",
       "ward                                                            5  \n",
       "charter_status                                            Charter  \n",
       "phone                                              (202) 397-5477  \n",
       "address           1375 MOUNT OLIVET ROAD NE, WASHINGTON, DC 20002  "
      ]
     },
     "execution_count": 12,
     "metadata": {},
     "output_type": "execute_result"
    }
   ],
   "source": [
    "metadata.head().T"
   ]
  }
 ],
 "metadata": {
  "colab": {
   "collapsed_sections": [],
   "name": "DC_schools_covid",
   "provenance": []
  },
  "kernelspec": {
   "display_name": "Python 3 (ipykernel)",
   "language": "python",
   "name": "python3"
  },
  "language_info": {
   "codemirror_mode": {
    "name": "ipython",
    "version": 3
   },
   "file_extension": ".py",
   "mimetype": "text/x-python",
   "name": "python",
   "nbconvert_exporter": "python",
   "pygments_lexer": "ipython3",
   "version": "3.9.5"
  }
 },
 "nbformat": 4,
 "nbformat_minor": 1
}
